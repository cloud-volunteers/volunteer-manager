{
 "cells": [
  {
   "cell_type": "code",
   "execution_count": 6,
   "metadata": {},
   "outputs": [],
   "source": [
    "from algorithm.max_matching import *"
   ]
  },
  {
   "cell_type": "code",
   "execution_count": 38,
   "metadata": {},
   "outputs": [
    {
     "name": "stderr",
     "output_type": "stream",
     "text": [
      "\u001b[32m[09-10-22 17:22:51]\u001b[0m \u001b[1;30mDEBUG   \u001b[0m \u001b[34malgorithm.max_matching.maximum_matching:\u001b[0m \u001b[2mfreenodes: [135, 136, 137, 138, 139, 140]\u001b[0m\n",
      "\u001b[32m[09-10-22 17:22:51]\u001b[0m \u001b[1;30mDEBUG   \u001b[0m \u001b[34malgorithm.max_matching.maximum_matching:\u001b[0m \u001b[2maugmenting path: [136, 135]\u001b[0m\n",
      "\u001b[32m[09-10-22 17:22:51]\u001b[0m \u001b[1;30mDEBUG   \u001b[0m \u001b[34malgorithm.max_matching.maximum_matching:\u001b[0m \u001b[2mfreenodes: [137, 138, 139, 140]\u001b[0m\n",
      "\u001b[32m[09-10-22 17:22:51]\u001b[0m \u001b[1;30mDEBUG   \u001b[0m \u001b[34malgorithm.max_matching.find_augmenting_path:\u001b[0m \u001b[2mblossom: [136, 135, 137]\u001b[0m\n",
      "\u001b[32m[09-10-22 17:22:51]\u001b[0m \u001b[1;30mDEBUG   \u001b[0m \u001b[34malgorithm.max_matching.maximum_matching:\u001b[0m \u001b[2maugmenting path: [139, 137]\u001b[0m\n",
      "\u001b[32m[09-10-22 17:22:51]\u001b[0m \u001b[1;30mDEBUG   \u001b[0m \u001b[34malgorithm.max_matching.maximum_matching:\u001b[0m \u001b[2mfreenodes: [138, 140]\u001b[0m\n",
      "\u001b[32m[09-10-22 17:22:51]\u001b[0m \u001b[1;30mDEBUG   \u001b[0m \u001b[34malgorithm.max_matching.find_augmenting_path:\u001b[0m \u001b[2mblossom: [137, 139, 138]\u001b[0m\n",
      "\u001b[32m[09-10-22 17:22:51]\u001b[0m \u001b[1;30mDEBUG   \u001b[0m \u001b[34malgorithm.max_matching.find_augmenting_path:\u001b[0m \u001b[2mblossom: [136, 135, 142]\u001b[0m\n",
      "\u001b[32m[09-10-22 17:22:51]\u001b[0m \u001b[1;30mDEBUG   \u001b[0m \u001b[34malgorithm.max_matching.maximum_matching:\u001b[0m \u001b[2maugmenting path: [140, 139, 137, 138]\u001b[0m\n"
     ]
    },
    {
     "name": "stdout",
     "output_type": "stream",
     "text": [
      "[135, 136, 137, 138, 139, 140]\n",
      "Node: 135 Mate:136\n",
      "Node: 136 Mate:135\n",
      "Node: 137 Mate:138\n",
      "Node: 138 Mate:137\n",
      "Node: 139 Mate:140\n",
      "Node: 140 Mate:139\n"
     ]
    }
   ],
   "source": [
    "#   *   * - *\n",
    "#  / \\ / \\\n",
    "# * - * - *\n",
    "\n",
    "nodes = [Node() for i in range(6)]\n",
    "nodes[0].neighbors.append(nodes[1])\n",
    "nodes[1].neighbors.append(nodes[0])\n",
    "nodes[0].neighbors.append(nodes[2])\n",
    "nodes[2].neighbors.append(nodes[0])\n",
    "nodes[1].neighbors.append(nodes[2])\n",
    "nodes[2].neighbors.append(nodes[1])\n",
    "nodes[2].neighbors.append(nodes[4])\n",
    "nodes[4].neighbors.append(nodes[2])\n",
    "nodes[3].neighbors.append(nodes[2])\n",
    "nodes[2].neighbors.append(nodes[3])\n",
    "nodes[4].neighbors.append(nodes[3])\n",
    "nodes[3].neighbors.append(nodes[4])\n",
    "nodes[4].neighbors.append(nodes[5])\n",
    "nodes[5].neighbors.append(nodes[4])\n",
    "\n",
    "print(nodes)\n",
    "match = Match(nodes)\n",
    "match.maximum_matching()\n",
    "for node in match.nodes:\n",
    "    print(f'Node: {node} Mate:{node.mate}')"
   ]
  },
  {
   "cell_type": "code",
   "execution_count": 37,
   "metadata": {},
   "outputs": [
    {
     "name": "stderr",
     "output_type": "stream",
     "text": [
      "\u001b[32m[09-10-22 17:22:30]\u001b[0m \u001b[1;30mDEBUG   \u001b[0m \u001b[34malgorithm.max_matching.maximum_matching:\u001b[0m \u001b[2mfreenodes: [131, 132, 133]\u001b[0m\n",
      "\u001b[32m[09-10-22 17:22:30]\u001b[0m \u001b[1;30mDEBUG   \u001b[0m \u001b[34malgorithm.max_matching.maximum_matching:\u001b[0m \u001b[2maugmenting path: [132, 131]\u001b[0m\n",
      "\u001b[32m[09-10-22 17:22:30]\u001b[0m \u001b[1;30mDEBUG   \u001b[0m \u001b[34malgorithm.max_matching.maximum_matching:\u001b[0m \u001b[2mfreenodes: [133]\u001b[0m\n",
      "\u001b[32m[09-10-22 17:22:30]\u001b[0m \u001b[1;30mDEBUG   \u001b[0m \u001b[34malgorithm.max_matching.find_augmenting_path:\u001b[0m \u001b[2mblossom: [132, 131, 133]\u001b[0m\n",
      "\u001b[32m[09-10-22 17:22:30]\u001b[0m \u001b[1;30mERROR   \u001b[0m \u001b[34malgorithm.max_matching.maximum_matching:\u001b[0m \u001b[31mcannot find an augmenting path\u001b[0m\n",
      "\u001b[32m[09-10-22 17:22:30]\u001b[0m \u001b[1;30mINFO    \u001b[0m \u001b[34malgorithm.max_matching.maximum_matching:\u001b[0m Tried all free nodes, no more augmenting path.\n"
     ]
    },
    {
     "name": "stdout",
     "output_type": "stream",
     "text": [
      "[131, 132, 133]\n",
      "Node: 131 Mate:132\n",
      "Node: 132 Mate:131\n",
      "Node: 133 Mate:None\n"
     ]
    }
   ],
   "source": [
    "#   * \n",
    "#  / \\ \n",
    "# * - *\n",
    "\n",
    "nodes = [Node() for i in range(3)]\n",
    "nodes[0].neighbors.append(nodes[1])\n",
    "nodes[1].neighbors.append(nodes[0])\n",
    "nodes[0].neighbors.append(nodes[2])\n",
    "nodes[2].neighbors.append(nodes[0])\n",
    "nodes[1].neighbors.append(nodes[2])\n",
    "nodes[2].neighbors.append(nodes[1])\n",
    "\n",
    "print(nodes)\n",
    "match = Match(nodes)\n",
    "match.maximum_matching()\n",
    "for node in match.nodes:\n",
    "    print(f'Node: {node} Mate:{node.mate}')"
   ]
  },
  {
   "cell_type": "markdown",
   "metadata": {},
   "source": []
  },
  {
   "cell_type": "code",
   "execution_count": 33,
   "metadata": {},
   "outputs": [
    {
     "data": {
      "text/plain": [
       "[116, 117, 118]"
      ]
     },
     "execution_count": 33,
     "metadata": {},
     "output_type": "execute_result"
    }
   ],
   "source": [
    "nodes"
   ]
  }
 ],
 "metadata": {
  "language_info": {
   "name": "python"
  },
  "orig_nbformat": 4
 },
 "nbformat": 4,
 "nbformat_minor": 2
}
