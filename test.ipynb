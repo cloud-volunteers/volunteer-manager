{
 "cells": [
  {
   "cell_type": "code",
   "execution_count": 59,
   "metadata": {},
   "outputs": [],
   "source": [
    "from pandas import ExcelFile, read_excel, DataFrame\n",
    "from hashlib import md5"
   ]
  },
  {
   "cell_type": "code",
   "execution_count": 74,
   "metadata": {},
   "outputs": [],
   "source": [
    "def email_generator(n):\n",
    "    return f\"{str(md5(str(n).encode('ascii')).hexdigest())}@email.com\""
   ]
  },
  {
   "cell_type": "code",
   "execution_count": 77,
   "metadata": {},
   "outputs": [
    {
     "data": {
      "text/html": [
       "<div>\n",
       "<style scoped>\n",
       "    .dataframe tbody tr th:only-of-type {\n",
       "        vertical-align: middle;\n",
       "    }\n",
       "\n",
       "    .dataframe tbody tr th {\n",
       "        vertical-align: top;\n",
       "    }\n",
       "\n",
       "    .dataframe thead th {\n",
       "        text-align: right;\n",
       "    }\n",
       "</style>\n",
       "<table border=\"1\" class=\"dataframe\">\n",
       "  <thead>\n",
       "    <tr style=\"text-align: right;\">\n",
       "      <th></th>\n",
       "      <th>Unnamed: 0</th>\n",
       "      <th>Email Address</th>\n",
       "      <th>County</th>\n",
       "      <th>City/Sector no. where you live</th>\n",
       "      <th>How do you want to work with children</th>\n",
       "      <th>School tutoring and homework</th>\n",
       "      <th>Tutoring for final exams</th>\n",
       "      <th>Other educative activities</th>\n",
       "      <th>Other activities/workshops you want to facilitate that were not mentioned before</th>\n",
       "      <th>Timestamp</th>\n",
       "      <th>Age</th>\n",
       "      <th>Schedule - day</th>\n",
       "      <th>Schedule - hours</th>\n",
       "    </tr>\n",
       "  </thead>\n",
       "  <tbody>\n",
       "    <tr>\n",
       "      <th>0</th>\n",
       "      <td>aa</td>\n",
       "      <td>cfcd208495d565ef66e7dff9f98764da@email.com</td>\n",
       "      <td>Arad</td>\n",
       "      <td>NaN</td>\n",
       "      <td>Offline and Online</td>\n",
       "      <td>I don't want to help kids with homework, Geogr...</td>\n",
       "      <td>Sociology - 12th grade</td>\n",
       "      <td>Online safety workshops, Health education work...</td>\n",
       "      <td>NaN</td>\n",
       "      <td>2021-11-02 08:07:45</td>\n",
       "      <td>20</td>\n",
       "      <td>Thursday, Friday</td>\n",
       "      <td>16:00 - 19:00</td>\n",
       "    </tr>\n",
       "    <tr>\n",
       "      <th>1</th>\n",
       "      <td>bb</td>\n",
       "      <td>c4ca4238a0b923820dcc509a6f75849b@email.com</td>\n",
       "      <td>Galati</td>\n",
       "      <td>Jud. Galati, com. Vinatori, sat Odaia Manolach...</td>\n",
       "      <td>Offline and Online</td>\n",
       "      <td>Help with reading and writing, Romanian, Biology</td>\n",
       "      <td>Biology - 12th grade</td>\n",
       "      <td>Vocational counseling, Health education worksh...</td>\n",
       "      <td>NaN</td>\n",
       "      <td>2021-11-02 12:03:25</td>\n",
       "      <td>21</td>\n",
       "      <td>Week days</td>\n",
       "      <td>09:00 - 12:00 (available just for the weekend)...</td>\n",
       "    </tr>\n",
       "    <tr>\n",
       "      <th>2</th>\n",
       "      <td>cc</td>\n",
       "      <td>c81e728d9d4c2f636f067f89cc14862c@email.com</td>\n",
       "      <td>Brasov</td>\n",
       "      <td>brasov</td>\n",
       "      <td>Offline and Online</td>\n",
       "      <td>Help with reading and writing, Romanian, Math,...</td>\n",
       "      <td>Math-12th grade, Math-8th grade, Romanian-12th...</td>\n",
       "      <td>Mentorship for teenagers, Vocational counselin...</td>\n",
       "      <td>Lb German, Educatie Antreprenoriala, Informatica</td>\n",
       "      <td>2021-11-02 12:07:15</td>\n",
       "      <td>29</td>\n",
       "      <td>Both</td>\n",
       "      <td>09:00 - 12:00 (available just for the weekend)...</td>\n",
       "    </tr>\n",
       "    <tr>\n",
       "      <th>3</th>\n",
       "      <td>dd</td>\n",
       "      <td>eccbc87e4b5ce2fe28308fd9f2a7baf3@email.com</td>\n",
       "      <td>Iasi</td>\n",
       "      <td>Iasi</td>\n",
       "      <td>Offline and Online</td>\n",
       "      <td>Help with reading and writing, Romanian, Math,...</td>\n",
       "      <td>Romanian-12th grade, Romanian-8th grade, Geogr...</td>\n",
       "      <td>Mentorship for teenagers, Vocational counselin...</td>\n",
       "      <td>Ateliere de creativitate cu ocazia diferitelor...</td>\n",
       "      <td>2021-11-02 12:13:39</td>\n",
       "      <td>21</td>\n",
       "      <td>NaN</td>\n",
       "      <td>09:00 - 12:00 (available just for the weekend)</td>\n",
       "    </tr>\n",
       "    <tr>\n",
       "      <th>4</th>\n",
       "      <td>ee</td>\n",
       "      <td>a87ff679a2f3e71d9181a67b7542122c@email.com</td>\n",
       "      <td>Brasov</td>\n",
       "      <td>Brasov</td>\n",
       "      <td>Offline and Online</td>\n",
       "      <td>Help with reading and writing</td>\n",
       "      <td>NaN</td>\n",
       "      <td>Mentorship for teenagers, Vocational counselin...</td>\n",
       "      <td>Teatru de copii</td>\n",
       "      <td>2021-11-02 12:15:12</td>\n",
       "      <td>43</td>\n",
       "      <td>Both</td>\n",
       "      <td>09:00 - 12:00 (available just for the weekend)</td>\n",
       "    </tr>\n",
       "  </tbody>\n",
       "</table>\n",
       "</div>"
      ],
      "text/plain": [
       "  Unnamed: 0                               Email Address  County  \\\n",
       "0         aa  cfcd208495d565ef66e7dff9f98764da@email.com    Arad   \n",
       "1         bb  c4ca4238a0b923820dcc509a6f75849b@email.com  Galati   \n",
       "2         cc  c81e728d9d4c2f636f067f89cc14862c@email.com  Brasov   \n",
       "3         dd  eccbc87e4b5ce2fe28308fd9f2a7baf3@email.com    Iasi   \n",
       "4         ee  a87ff679a2f3e71d9181a67b7542122c@email.com  Brasov   \n",
       "\n",
       "                      City/Sector no. where you live  \\\n",
       "0                                                NaN   \n",
       "1  Jud. Galati, com. Vinatori, sat Odaia Manolach...   \n",
       "2                                             brasov   \n",
       "3                                               Iasi   \n",
       "4                                             Brasov   \n",
       "\n",
       "  How do you want to work with children  \\\n",
       "0                    Offline and Online   \n",
       "1                    Offline and Online   \n",
       "2                    Offline and Online   \n",
       "3                    Offline and Online   \n",
       "4                    Offline and Online   \n",
       "\n",
       "                        School tutoring and homework  \\\n",
       "0  I don't want to help kids with homework, Geogr...   \n",
       "1   Help with reading and writing, Romanian, Biology   \n",
       "2  Help with reading and writing, Romanian, Math,...   \n",
       "3  Help with reading and writing, Romanian, Math,...   \n",
       "4                      Help with reading and writing   \n",
       "\n",
       "                            Tutoring for final exams  \\\n",
       "0                             Sociology - 12th grade   \n",
       "1                               Biology - 12th grade   \n",
       "2  Math-12th grade, Math-8th grade, Romanian-12th...   \n",
       "3  Romanian-12th grade, Romanian-8th grade, Geogr...   \n",
       "4                                                NaN   \n",
       "\n",
       "                          Other educative activities  \\\n",
       "0  Online safety workshops, Health education work...   \n",
       "1  Vocational counseling, Health education worksh...   \n",
       "2  Mentorship for teenagers, Vocational counselin...   \n",
       "3  Mentorship for teenagers, Vocational counselin...   \n",
       "4  Mentorship for teenagers, Vocational counselin...   \n",
       "\n",
       "  Other activities/workshops you want to facilitate that were not mentioned before  \\\n",
       "0                                                NaN                                 \n",
       "1                                                NaN                                 \n",
       "2   Lb German, Educatie Antreprenoriala, Informatica                                 \n",
       "3  Ateliere de creativitate cu ocazia diferitelor...                                 \n",
       "4                                    Teatru de copii                                 \n",
       "\n",
       "            Timestamp  Age    Schedule - day  \\\n",
       "0 2021-11-02 08:07:45   20  Thursday, Friday   \n",
       "1 2021-11-02 12:03:25   21         Week days   \n",
       "2 2021-11-02 12:07:15   29              Both   \n",
       "3 2021-11-02 12:13:39   21               NaN   \n",
       "4 2021-11-02 12:15:12   43              Both   \n",
       "\n",
       "                                    Schedule - hours  \n",
       "0                                      16:00 - 19:00  \n",
       "1  09:00 - 12:00 (available just for the weekend)...  \n",
       "2  09:00 - 12:00 (available just for the weekend)...  \n",
       "3     09:00 - 12:00 (available just for the weekend)  \n",
       "4     09:00 - 12:00 (available just for the weekend)  "
      ]
     },
     "execution_count": 77,
     "metadata": {},
     "output_type": "execute_result"
    }
   ],
   "source": [
    "xls = ExcelFile('Input from volunteers.xlsx')\n",
    "df = read_excel(xls, 'Responses')\n",
    "df['Email Address'] = df.index\n",
    "df['Email Address'] = df['Email Address'].apply(email_generator)\n",
    "df.head(5)"
   ]
  },
  {
   "cell_type": "code",
   "execution_count": 36,
   "metadata": {},
   "outputs": [
    {
     "data": {
      "text/plain": [
       "array(['Arad', 'Galati', 'Brasov', 'Iasi', 'Constanta', 'Cluj', 'Gorj',\n",
       "       'Botosani', 'Buzau', 'Online', 'Mures', 'Hunedoara', 'Vrancea',\n",
       "       'Bucuresti', 'Prahova', 'Neamt', 'Bacau', 'Sibiu', 'Arges',\n",
       "       'Suceava', 'Timis', 'Ilfov', 'Vaslui', 'Mehedinti', 'Bihor',\n",
       "       'Maramures', 'Dolj'], dtype=object)"
      ]
     },
     "execution_count": 36,
     "metadata": {},
     "output_type": "execute_result"
    }
   ],
   "source": [
    "df['County'].unique()"
   ]
  },
  {
   "cell_type": "code",
   "execution_count": 35,
   "metadata": {},
   "outputs": [
    {
     "data": {
      "text/plain": [
       "array(['Offline and Online', 'Online', 'Doar FIZIC'], dtype=object)"
      ]
     },
     "execution_count": 35,
     "metadata": {},
     "output_type": "execute_result"
    }
   ],
   "source": [
    "df['How do you want to work with children'].unique()"
   ]
  },
  {
   "cell_type": "code",
   "execution_count": 50,
   "metadata": {},
   "outputs": [],
   "source": [
    "def get_required_values(value, required):\n",
    "    return bool(len([word for word in required if word in value]))"
   ]
  },
  {
   "cell_type": "code",
   "execution_count": 58,
   "metadata": {},
   "outputs": [],
   "source": [
    "df['Online'] = df.apply(lambda x: get_required_values(x['How do you want to work with children'], ['Online']), axis=1)\n",
    "df['Offline'] = df.apply(lambda x: get_required_values(x['How do you want to work with children'], ['Offline', 'Doar FIZIC']), axis=1)"
   ]
  },
  {
   "cell_type": "code",
   "execution_count": null,
   "metadata": {},
   "outputs": [],
   "source": [
    "df['School tutoring and homework'].unique()"
   ]
  },
  {
   "cell_type": "code",
   "execution_count": null,
   "metadata": {},
   "outputs": [],
   "source": [
    "df['Tutoring for final exams'].unique()"
   ]
  },
  {
   "cell_type": "code",
   "execution_count": null,
   "metadata": {},
   "outputs": [],
   "source": [
    "df['Other educative activities'].unique()"
   ]
  },
  {
   "cell_type": "code",
   "execution_count": null,
   "metadata": {},
   "outputs": [],
   "source": [
    "df['Other activities/workshops you want to facilitate that were not mentioned before'].unique()"
   ]
  },
  {
   "cell_type": "code",
   "execution_count": 44,
   "metadata": {},
   "outputs": [
    {
     "data": {
      "text/plain": [
       "array(['Thursday, Friday', 'Week days', 'Both', nan, 'Weekend',\n",
       "       'Monday, Tuesday, Wednesday', 'Wednesday, Thursday, Friday'],\n",
       "      dtype=object)"
      ]
     },
     "execution_count": 44,
     "metadata": {},
     "output_type": "execute_result"
    }
   ],
   "source": [
    "df['Schedule - day'].unique()"
   ]
  },
  {
   "cell_type": "code",
   "execution_count": 45,
   "metadata": {},
   "outputs": [
    {
     "data": {
      "text/plain": [
       "array(['16:00 - 19:00',\n",
       "       '09:00 - 12:00 (available just for the weekend), 16:00 - 19:00',\n",
       "       '09:00 - 12:00 (available just for the weekend)',\n",
       "       '09:00 - 12:00 (available just for the weekend), 14:00 - 16:00, 16:00 - 19:00',\n",
       "       '14:00 - 16:00, 16:00 - 19:00',\n",
       "       '09:00 - 12:00 (available just for the weekend), 14:00 - 16:00',\n",
       "       '14:00 - 16:00', nan], dtype=object)"
      ]
     },
     "execution_count": 45,
     "metadata": {},
     "output_type": "execute_result"
    }
   ],
   "source": [
    "df['Schedule - hours'].unique()"
   ]
  },
  {
   "cell_type": "code",
   "execution_count": 72,
   "metadata": {},
   "outputs": [
    {
     "data": {
      "text/plain": [
       "'cfcd208495d565ef66e7dff9f98764da'"
      ]
     },
     "execution_count": 72,
     "metadata": {},
     "output_type": "execute_result"
    }
   ],
   "source": [
    "from hashlib import md5\n",
    "md5(str(0).encode('ascii')).hexdigest()"
   ]
  },
  {
   "cell_type": "code",
   "execution_count": 78,
   "metadata": {},
   "outputs": [
    {
     "data": {
      "text/plain": [
       "'eccbc87e4b5ce2fe28308fd9f2a7baf3'"
      ]
     },
     "execution_count": 78,
     "metadata": {},
     "output_type": "execute_result"
    }
   ],
   "source": [
    "md5(str(3).encode('ascii')).hexdigest()"
   ]
  },
  {
   "cell_type": "markdown",
   "metadata": {},
   "source": [
    "c4ca4238a0b923820dcc509a6f75849b@email.com"
   ]
  },
  {
   "cell_type": "code",
   "execution_count": null,
   "metadata": {},
   "outputs": [],
   "source": [
    "cfcd208495d565ef66e7dff9f98764da@email.com"
   ]
  }
 ],
 "metadata": {
  "kernelspec": {
   "display_name": "Python 3.10.4 ('volunteer-manager')",
   "language": "python",
   "name": "python3"
  },
  "language_info": {
   "codemirror_mode": {
    "name": "ipython",
    "version": 3
   },
   "file_extension": ".py",
   "mimetype": "text/x-python",
   "name": "python",
   "nbconvert_exporter": "python",
   "pygments_lexer": "ipython3",
   "version": "3.10.4"
  },
  "orig_nbformat": 4,
  "vscode": {
   "interpreter": {
    "hash": "86f372642c09774be414abffd82201a76c10f03e6c9d9b9fbdc66db9fcce88b3"
   }
  }
 },
 "nbformat": 4,
 "nbformat_minor": 2
}
