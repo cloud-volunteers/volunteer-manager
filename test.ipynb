{
 "cells": [
  {
   "cell_type": "code",
   "execution_count": 59,
   "metadata": {},
   "outputs": [],
   "source": [
    "from pandas import ExcelFile, read_excel, DataFrame\n",
    "from secrets import token_hex"
   ]
  },
  {
   "cell_type": "code",
   "execution_count": 25,
   "metadata": {},
   "outputs": [],
   "source": [
    "def email_generator(n):\n",
    "    return f\"{str(token_hex(16))}@gmail.com\""
   ]
  },
  {
   "cell_type": "code",
   "execution_count": 33,
   "metadata": {},
   "outputs": [
    {
     "data": {
      "text/html": [
       "<div>\n",
       "<style scoped>\n",
       "    .dataframe tbody tr th:only-of-type {\n",
       "        vertical-align: middle;\n",
       "    }\n",
       "\n",
       "    .dataframe tbody tr th {\n",
       "        vertical-align: top;\n",
       "    }\n",
       "\n",
       "    .dataframe thead th {\n",
       "        text-align: right;\n",
       "    }\n",
       "</style>\n",
       "<table border=\"1\" class=\"dataframe\">\n",
       "  <thead>\n",
       "    <tr style=\"text-align: right;\">\n",
       "      <th></th>\n",
       "      <th>Unnamed: 0</th>\n",
       "      <th>Email Address</th>\n",
       "      <th>County</th>\n",
       "      <th>City/Sector no. where you live</th>\n",
       "      <th>How do you want to work with children</th>\n",
       "      <th>School tutoring and homework</th>\n",
       "      <th>Tutoring for final exams</th>\n",
       "      <th>Other educative activities</th>\n",
       "      <th>Other activities/workshops you want to facilitate that were not mentioned before</th>\n",
       "      <th>Timestamp</th>\n",
       "      <th>Age</th>\n",
       "      <th>Schedule - day</th>\n",
       "      <th>Schedule - hours</th>\n",
       "    </tr>\n",
       "  </thead>\n",
       "  <tbody>\n",
       "    <tr>\n",
       "      <th>0</th>\n",
       "      <td>aa</td>\n",
       "      <td>bab1a8270942e56d0f430f6b10d7d777@gmail.com</td>\n",
       "      <td>Arad</td>\n",
       "      <td>NaN</td>\n",
       "      <td>Offline and Online</td>\n",
       "      <td>I don't want to help kids with homework, Geogr...</td>\n",
       "      <td>Sociology - 12th grade</td>\n",
       "      <td>Online safety workshops, Health education work...</td>\n",
       "      <td>NaN</td>\n",
       "      <td>2021-11-02 08:07:45</td>\n",
       "      <td>20</td>\n",
       "      <td>Thursday, Friday</td>\n",
       "      <td>16:00 - 19:00</td>\n",
       "    </tr>\n",
       "  </tbody>\n",
       "</table>\n",
       "</div>"
      ],
      "text/plain": [
       "  Unnamed: 0                               Email Address County  \\\n",
       "0         aa  bab1a8270942e56d0f430f6b10d7d777@gmail.com   Arad   \n",
       "\n",
       "  City/Sector no. where you live How do you want to work with children  \\\n",
       "0                            NaN                    Offline and Online   \n",
       "\n",
       "                        School tutoring and homework Tutoring for final exams  \\\n",
       "0  I don't want to help kids with homework, Geogr...   Sociology - 12th grade   \n",
       "\n",
       "                          Other educative activities  \\\n",
       "0  Online safety workshops, Health education work...   \n",
       "\n",
       "  Other activities/workshops you want to facilitate that were not mentioned before  \\\n",
       "0                                                NaN                                 \n",
       "\n",
       "            Timestamp  Age    Schedule - day Schedule - hours  \n",
       "0 2021-11-02 08:07:45   20  Thursday, Friday    16:00 - 19:00  "
      ]
     },
     "execution_count": 33,
     "metadata": {},
     "output_type": "execute_result"
    }
   ],
   "source": [
    "xls = ExcelFile('Input from volunteers.xlsx')\n",
    "df = read_excel(xls, 'Responses')\n",
    "df['Email Address'] = df['Email Address'].apply(email_generator)\n",
    "df.head(1)"
   ]
  },
  {
   "cell_type": "code",
   "execution_count": 36,
   "metadata": {},
   "outputs": [
    {
     "data": {
      "text/plain": [
       "array(['Arad', 'Galati', 'Brasov', 'Iasi', 'Constanta', 'Cluj', 'Gorj',\n",
       "       'Botosani', 'Buzau', 'Online', 'Mures', 'Hunedoara', 'Vrancea',\n",
       "       'Bucuresti', 'Prahova', 'Neamt', 'Bacau', 'Sibiu', 'Arges',\n",
       "       'Suceava', 'Timis', 'Ilfov', 'Vaslui', 'Mehedinti', 'Bihor',\n",
       "       'Maramures', 'Dolj'], dtype=object)"
      ]
     },
     "execution_count": 36,
     "metadata": {},
     "output_type": "execute_result"
    }
   ],
   "source": [
    "df['County'].unique()"
   ]
  },
  {
   "cell_type": "code",
   "execution_count": 35,
   "metadata": {},
   "outputs": [
    {
     "data": {
      "text/plain": [
       "array(['Offline and Online', 'Online', 'Doar FIZIC'], dtype=object)"
      ]
     },
     "execution_count": 35,
     "metadata": {},
     "output_type": "execute_result"
    }
   ],
   "source": [
    "df['How do you want to work with children'].unique()"
   ]
  },
  {
   "cell_type": "code",
   "execution_count": 50,
   "metadata": {},
   "outputs": [],
   "source": [
    "def get_required_values(value, required):\n",
    "    return bool(len([word for word in required if word in value]))"
   ]
  },
  {
   "cell_type": "code",
   "execution_count": 58,
   "metadata": {},
   "outputs": [],
   "source": [
    "df['Online'] = df.apply(lambda x: get_required_values(x['How do you want to work with children'], ['Online']), axis=1)\n",
    "df['Offline'] = df.apply(lambda x: get_required_values(x['How do you want to work with children'], ['Offline', 'Doar FIZIC']), axis=1)"
   ]
  },
  {
   "cell_type": "code",
   "execution_count": null,
   "metadata": {},
   "outputs": [],
   "source": [
    "df['School tutoring and homework'].unique()"
   ]
  },
  {
   "cell_type": "code",
   "execution_count": null,
   "metadata": {},
   "outputs": [],
   "source": [
    "df['Tutoring for final exams'].unique()"
   ]
  },
  {
   "cell_type": "code",
   "execution_count": null,
   "metadata": {},
   "outputs": [],
   "source": [
    "df['Other educative activities'].unique()"
   ]
  },
  {
   "cell_type": "code",
   "execution_count": null,
   "metadata": {},
   "outputs": [],
   "source": [
    "df['Other activities/workshops you want to facilitate that were not mentioned before'].unique()"
   ]
  },
  {
   "cell_type": "code",
   "execution_count": 44,
   "metadata": {},
   "outputs": [
    {
     "data": {
      "text/plain": [
       "array(['Thursday, Friday', 'Week days', 'Both', nan, 'Weekend',\n",
       "       'Monday, Tuesday, Wednesday', 'Wednesday, Thursday, Friday'],\n",
       "      dtype=object)"
      ]
     },
     "execution_count": 44,
     "metadata": {},
     "output_type": "execute_result"
    }
   ],
   "source": [
    "df['Schedule - day'].unique()"
   ]
  },
  {
   "cell_type": "code",
   "execution_count": 45,
   "metadata": {},
   "outputs": [
    {
     "data": {
      "text/plain": [
       "array(['16:00 - 19:00',\n",
       "       '09:00 - 12:00 (available just for the weekend), 16:00 - 19:00',\n",
       "       '09:00 - 12:00 (available just for the weekend)',\n",
       "       '09:00 - 12:00 (available just for the weekend), 14:00 - 16:00, 16:00 - 19:00',\n",
       "       '14:00 - 16:00, 16:00 - 19:00',\n",
       "       '09:00 - 12:00 (available just for the weekend), 14:00 - 16:00',\n",
       "       '14:00 - 16:00', nan], dtype=object)"
      ]
     },
     "execution_count": 45,
     "metadata": {},
     "output_type": "execute_result"
    }
   ],
   "source": [
    "df['Schedule - hours'].unique()"
   ]
  },
  {
   "cell_type": "code",
   "execution_count": null,
   "metadata": {},
   "outputs": [],
   "source": []
  }
 ],
 "metadata": {
  "kernelspec": {
   "display_name": "Python 3.10.4 ('volunteer-manager')",
   "language": "python",
   "name": "python3"
  },
  "language_info": {
   "codemirror_mode": {
    "name": "ipython",
    "version": 3
   },
   "file_extension": ".py",
   "mimetype": "text/x-python",
   "name": "python",
   "nbconvert_exporter": "python",
   "pygments_lexer": "ipython3",
   "version": "3.10.4"
  },
  "orig_nbformat": 4,
  "vscode": {
   "interpreter": {
    "hash": "86f372642c09774be414abffd82201a76c10f03e6c9d9b9fbdc66db9fcce88b3"
   }
  }
 },
 "nbformat": 4,
 "nbformat_minor": 2
}
